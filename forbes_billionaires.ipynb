{
 "cells": [
  {
   "cell_type": "code",
   "execution_count": 2,
   "id": "0785368a-4d70-4c80-9b2f-f962438c8d5c",
   "metadata": {},
   "outputs": [],
   "source": [
    "import pandas as pd\n",
    "import numpy as np\n",
    "import matplotlib. pyplot as plt\n",
    "import seaborn as sb\n",
    "import yfinance as yf"
   ]
  },
  {
   "cell_type": "code",
   "execution_count": 3,
   "id": "049fb78e-7459-4c0d-98d2-15077de88cec",
   "metadata": {},
   "outputs": [],
   "source": [
    "df=pd.read_csv(\"../DataSets/2022_forbes_billionaires file.csv\")"
   ]
  },
  {
   "cell_type": "code",
   "execution_count": 4,
   "id": "b8663372-5766-499d-b167-9d84709c3bfd",
   "metadata": {},
   "outputs": [
    {
     "data": {
      "text/html": [
       "<div>\n",
       "<style scoped>\n",
       "    .dataframe tbody tr th:only-of-type {\n",
       "        vertical-align: middle;\n",
       "    }\n",
       "\n",
       "    .dataframe tbody tr th {\n",
       "        vertical-align: top;\n",
       "    }\n",
       "\n",
       "    .dataframe thead th {\n",
       "        text-align: right;\n",
       "    }\n",
       "</style>\n",
       "<table border=\"1\" class=\"dataframe\">\n",
       "  <thead>\n",
       "    <tr style=\"text-align: right;\">\n",
       "      <th></th>\n",
       "      <th>Unnamed: 0</th>\n",
       "      <th>rank</th>\n",
       "      <th>name</th>\n",
       "      <th>networth</th>\n",
       "      <th>age</th>\n",
       "      <th>country</th>\n",
       "      <th>source</th>\n",
       "      <th>industry</th>\n",
       "    </tr>\n",
       "  </thead>\n",
       "  <tbody>\n",
       "    <tr>\n",
       "      <th>0</th>\n",
       "      <td>0</td>\n",
       "      <td>1</td>\n",
       "      <td>Elon Musk</td>\n",
       "      <td>$219 B</td>\n",
       "      <td>50</td>\n",
       "      <td>United States</td>\n",
       "      <td>Tesla, SpaceX</td>\n",
       "      <td>Automotive</td>\n",
       "    </tr>\n",
       "    <tr>\n",
       "      <th>1</th>\n",
       "      <td>1</td>\n",
       "      <td>2</td>\n",
       "      <td>Jeff Bezos</td>\n",
       "      <td>$171 B</td>\n",
       "      <td>58</td>\n",
       "      <td>United States</td>\n",
       "      <td>Amazon</td>\n",
       "      <td>Technology</td>\n",
       "    </tr>\n",
       "    <tr>\n",
       "      <th>2</th>\n",
       "      <td>2</td>\n",
       "      <td>3</td>\n",
       "      <td>Bernard Arnault &amp; family</td>\n",
       "      <td>$158 B</td>\n",
       "      <td>73</td>\n",
       "      <td>France</td>\n",
       "      <td>LVMH</td>\n",
       "      <td>Fashion &amp; Retail</td>\n",
       "    </tr>\n",
       "    <tr>\n",
       "      <th>3</th>\n",
       "      <td>3</td>\n",
       "      <td>4</td>\n",
       "      <td>Bill Gates</td>\n",
       "      <td>$129 B</td>\n",
       "      <td>66</td>\n",
       "      <td>United States</td>\n",
       "      <td>Microsoft</td>\n",
       "      <td>Technology</td>\n",
       "    </tr>\n",
       "    <tr>\n",
       "      <th>4</th>\n",
       "      <td>4</td>\n",
       "      <td>5</td>\n",
       "      <td>Warren Buffett</td>\n",
       "      <td>$118 B</td>\n",
       "      <td>91</td>\n",
       "      <td>United States</td>\n",
       "      <td>Berkshire Hathaway</td>\n",
       "      <td>Finance &amp; Investments</td>\n",
       "    </tr>\n",
       "    <tr>\n",
       "      <th>...</th>\n",
       "      <td>...</td>\n",
       "      <td>...</td>\n",
       "      <td>...</td>\n",
       "      <td>...</td>\n",
       "      <td>...</td>\n",
       "      <td>...</td>\n",
       "      <td>...</td>\n",
       "      <td>...</td>\n",
       "    </tr>\n",
       "    <tr>\n",
       "      <th>2595</th>\n",
       "      <td>2595</td>\n",
       "      <td>2578</td>\n",
       "      <td>Jorge Gallardo Ballart</td>\n",
       "      <td>$1 B</td>\n",
       "      <td>80</td>\n",
       "      <td>Spain</td>\n",
       "      <td>pharmaceuticals</td>\n",
       "      <td>Healthcare</td>\n",
       "    </tr>\n",
       "    <tr>\n",
       "      <th>2596</th>\n",
       "      <td>2596</td>\n",
       "      <td>2578</td>\n",
       "      <td>Nari Genomal</td>\n",
       "      <td>$1 B</td>\n",
       "      <td>82</td>\n",
       "      <td>Philippines</td>\n",
       "      <td>apparel</td>\n",
       "      <td>Fashion &amp; Retail</td>\n",
       "    </tr>\n",
       "    <tr>\n",
       "      <th>2597</th>\n",
       "      <td>2597</td>\n",
       "      <td>2578</td>\n",
       "      <td>Ramesh Genomal</td>\n",
       "      <td>$1 B</td>\n",
       "      <td>71</td>\n",
       "      <td>Philippines</td>\n",
       "      <td>apparel</td>\n",
       "      <td>Fashion &amp; Retail</td>\n",
       "    </tr>\n",
       "    <tr>\n",
       "      <th>2598</th>\n",
       "      <td>2598</td>\n",
       "      <td>2578</td>\n",
       "      <td>Sunder Genomal</td>\n",
       "      <td>$1 B</td>\n",
       "      <td>68</td>\n",
       "      <td>Philippines</td>\n",
       "      <td>garments</td>\n",
       "      <td>Fashion &amp; Retail</td>\n",
       "    </tr>\n",
       "    <tr>\n",
       "      <th>2599</th>\n",
       "      <td>2599</td>\n",
       "      <td>2578</td>\n",
       "      <td>Horst-Otto Gerberding</td>\n",
       "      <td>$1 B</td>\n",
       "      <td>69</td>\n",
       "      <td>Germany</td>\n",
       "      <td>flavors and fragrances</td>\n",
       "      <td>Food &amp; Beverage</td>\n",
       "    </tr>\n",
       "  </tbody>\n",
       "</table>\n",
       "<p>2600 rows × 8 columns</p>\n",
       "</div>"
      ],
      "text/plain": [
       "      Unnamed: 0  rank                       name networth  age  \\\n",
       "0              0     1                 Elon Musk    $219 B   50   \n",
       "1              1     2                Jeff Bezos    $171 B   58   \n",
       "2              2     3  Bernard Arnault & family    $158 B   73   \n",
       "3              3     4                Bill Gates    $129 B   66   \n",
       "4              4     5            Warren Buffett    $118 B   91   \n",
       "...          ...   ...                        ...      ...  ...   \n",
       "2595        2595  2578    Jorge Gallardo Ballart      $1 B   80   \n",
       "2596        2596  2578              Nari Genomal      $1 B   82   \n",
       "2597        2597  2578            Ramesh Genomal      $1 B   71   \n",
       "2598        2598  2578            Sunder Genomal      $1 B   68   \n",
       "2599        2599  2578     Horst-Otto Gerberding      $1 B   69   \n",
       "\n",
       "            country                  source                industry  \n",
       "0     United States           Tesla, SpaceX             Automotive   \n",
       "1     United States                  Amazon             Technology   \n",
       "2            France                    LVMH       Fashion & Retail   \n",
       "3     United States               Microsoft             Technology   \n",
       "4     United States      Berkshire Hathaway  Finance & Investments   \n",
       "...             ...                     ...                     ...  \n",
       "2595          Spain         pharmaceuticals             Healthcare   \n",
       "2596    Philippines                 apparel       Fashion & Retail   \n",
       "2597    Philippines                 apparel       Fashion & Retail   \n",
       "2598    Philippines                garments       Fashion & Retail   \n",
       "2599        Germany  flavors and fragrances        Food & Beverage   \n",
       "\n",
       "[2600 rows x 8 columns]"
      ]
     },
     "execution_count": 4,
     "metadata": {},
     "output_type": "execute_result"
    }
   ],
   "source": [
    "df"
   ]
  },
  {
   "cell_type": "markdown",
   "id": "347d6a97-584d-4291-b4c8-1576e275696b",
   "metadata": {},
   "source": [
    "# Data Prepration:"
   ]
  },
  {
   "cell_type": "markdown",
   "id": "f2bb0fb8-c57a-45f3-83a1-da2e63667565",
   "metadata": {},
   "source": [
    "### How can we handle missing values in the dataset?"
   ]
  },
  {
   "cell_type": "code",
   "execution_count": 5,
   "id": "d9d42701-cdbf-4f32-a86c-9e71f089c59b",
   "metadata": {},
   "outputs": [
    {
     "data": {
      "text/plain": [
       "Unnamed: 0    0\n",
       "rank          0\n",
       "name          0\n",
       "networth      0\n",
       "age           0\n",
       "country       0\n",
       "source        0\n",
       "industry      0\n",
       "dtype: int64"
      ]
     },
     "execution_count": 5,
     "metadata": {},
     "output_type": "execute_result"
    }
   ],
   "source": [
    "df.isnull().sum()"
   ]
  },
  {
   "cell_type": "code",
   "execution_count": 6,
   "id": "d3c9f7a5-4e7f-4da0-a206-477ca18d2fbb",
   "metadata": {},
   "outputs": [],
   "source": [
    "df.networth= df.networth.replace(\"[$B]\",\"\",regex=True).astype('float64')"
   ]
  },
  {
   "cell_type": "code",
   "execution_count": 7,
   "id": "4e8d045c-ea7f-40e7-a09d-8fe2ec085d79",
   "metadata": {},
   "outputs": [
    {
     "data": {
      "text/html": [
       "<div>\n",
       "<style scoped>\n",
       "    .dataframe tbody tr th:only-of-type {\n",
       "        vertical-align: middle;\n",
       "    }\n",
       "\n",
       "    .dataframe tbody tr th {\n",
       "        vertical-align: top;\n",
       "    }\n",
       "\n",
       "    .dataframe thead th {\n",
       "        text-align: right;\n",
       "    }\n",
       "</style>\n",
       "<table border=\"1\" class=\"dataframe\">\n",
       "  <thead>\n",
       "    <tr style=\"text-align: right;\">\n",
       "      <th></th>\n",
       "      <th>Unnamed: 0</th>\n",
       "      <th>rank</th>\n",
       "      <th>name</th>\n",
       "      <th>networth</th>\n",
       "      <th>age</th>\n",
       "      <th>country</th>\n",
       "      <th>source</th>\n",
       "      <th>industry</th>\n",
       "    </tr>\n",
       "  </thead>\n",
       "  <tbody>\n",
       "    <tr>\n",
       "      <th>0</th>\n",
       "      <td>0</td>\n",
       "      <td>1</td>\n",
       "      <td>Elon Musk</td>\n",
       "      <td>219.0</td>\n",
       "      <td>50</td>\n",
       "      <td>United States</td>\n",
       "      <td>Tesla, SpaceX</td>\n",
       "      <td>Automotive</td>\n",
       "    </tr>\n",
       "    <tr>\n",
       "      <th>1</th>\n",
       "      <td>1</td>\n",
       "      <td>2</td>\n",
       "      <td>Jeff Bezos</td>\n",
       "      <td>171.0</td>\n",
       "      <td>58</td>\n",
       "      <td>United States</td>\n",
       "      <td>Amazon</td>\n",
       "      <td>Technology</td>\n",
       "    </tr>\n",
       "    <tr>\n",
       "      <th>2</th>\n",
       "      <td>2</td>\n",
       "      <td>3</td>\n",
       "      <td>Bernard Arnault &amp; family</td>\n",
       "      <td>158.0</td>\n",
       "      <td>73</td>\n",
       "      <td>France</td>\n",
       "      <td>LVMH</td>\n",
       "      <td>Fashion &amp; Retail</td>\n",
       "    </tr>\n",
       "    <tr>\n",
       "      <th>3</th>\n",
       "      <td>3</td>\n",
       "      <td>4</td>\n",
       "      <td>Bill Gates</td>\n",
       "      <td>129.0</td>\n",
       "      <td>66</td>\n",
       "      <td>United States</td>\n",
       "      <td>Microsoft</td>\n",
       "      <td>Technology</td>\n",
       "    </tr>\n",
       "    <tr>\n",
       "      <th>4</th>\n",
       "      <td>4</td>\n",
       "      <td>5</td>\n",
       "      <td>Warren Buffett</td>\n",
       "      <td>118.0</td>\n",
       "      <td>91</td>\n",
       "      <td>United States</td>\n",
       "      <td>Berkshire Hathaway</td>\n",
       "      <td>Finance &amp; Investments</td>\n",
       "    </tr>\n",
       "    <tr>\n",
       "      <th>...</th>\n",
       "      <td>...</td>\n",
       "      <td>...</td>\n",
       "      <td>...</td>\n",
       "      <td>...</td>\n",
       "      <td>...</td>\n",
       "      <td>...</td>\n",
       "      <td>...</td>\n",
       "      <td>...</td>\n",
       "    </tr>\n",
       "    <tr>\n",
       "      <th>2595</th>\n",
       "      <td>2595</td>\n",
       "      <td>2578</td>\n",
       "      <td>Jorge Gallardo Ballart</td>\n",
       "      <td>1.0</td>\n",
       "      <td>80</td>\n",
       "      <td>Spain</td>\n",
       "      <td>pharmaceuticals</td>\n",
       "      <td>Healthcare</td>\n",
       "    </tr>\n",
       "    <tr>\n",
       "      <th>2596</th>\n",
       "      <td>2596</td>\n",
       "      <td>2578</td>\n",
       "      <td>Nari Genomal</td>\n",
       "      <td>1.0</td>\n",
       "      <td>82</td>\n",
       "      <td>Philippines</td>\n",
       "      <td>apparel</td>\n",
       "      <td>Fashion &amp; Retail</td>\n",
       "    </tr>\n",
       "    <tr>\n",
       "      <th>2597</th>\n",
       "      <td>2597</td>\n",
       "      <td>2578</td>\n",
       "      <td>Ramesh Genomal</td>\n",
       "      <td>1.0</td>\n",
       "      <td>71</td>\n",
       "      <td>Philippines</td>\n",
       "      <td>apparel</td>\n",
       "      <td>Fashion &amp; Retail</td>\n",
       "    </tr>\n",
       "    <tr>\n",
       "      <th>2598</th>\n",
       "      <td>2598</td>\n",
       "      <td>2578</td>\n",
       "      <td>Sunder Genomal</td>\n",
       "      <td>1.0</td>\n",
       "      <td>68</td>\n",
       "      <td>Philippines</td>\n",
       "      <td>garments</td>\n",
       "      <td>Fashion &amp; Retail</td>\n",
       "    </tr>\n",
       "    <tr>\n",
       "      <th>2599</th>\n",
       "      <td>2599</td>\n",
       "      <td>2578</td>\n",
       "      <td>Horst-Otto Gerberding</td>\n",
       "      <td>1.0</td>\n",
       "      <td>69</td>\n",
       "      <td>Germany</td>\n",
       "      <td>flavors and fragrances</td>\n",
       "      <td>Food &amp; Beverage</td>\n",
       "    </tr>\n",
       "  </tbody>\n",
       "</table>\n",
       "<p>2600 rows × 8 columns</p>\n",
       "</div>"
      ],
      "text/plain": [
       "      Unnamed: 0  rank                       name  networth  age  \\\n",
       "0              0     1                 Elon Musk      219.0   50   \n",
       "1              1     2                Jeff Bezos      171.0   58   \n",
       "2              2     3  Bernard Arnault & family      158.0   73   \n",
       "3              3     4                Bill Gates      129.0   66   \n",
       "4              4     5            Warren Buffett      118.0   91   \n",
       "...          ...   ...                        ...       ...  ...   \n",
       "2595        2595  2578    Jorge Gallardo Ballart        1.0   80   \n",
       "2596        2596  2578              Nari Genomal        1.0   82   \n",
       "2597        2597  2578            Ramesh Genomal        1.0   71   \n",
       "2598        2598  2578            Sunder Genomal        1.0   68   \n",
       "2599        2599  2578     Horst-Otto Gerberding        1.0   69   \n",
       "\n",
       "            country                  source                industry  \n",
       "0     United States           Tesla, SpaceX             Automotive   \n",
       "1     United States                  Amazon             Technology   \n",
       "2            France                    LVMH       Fashion & Retail   \n",
       "3     United States               Microsoft             Technology   \n",
       "4     United States      Berkshire Hathaway  Finance & Investments   \n",
       "...             ...                     ...                     ...  \n",
       "2595          Spain         pharmaceuticals             Healthcare   \n",
       "2596    Philippines                 apparel       Fashion & Retail   \n",
       "2597    Philippines                 apparel       Fashion & Retail   \n",
       "2598    Philippines                garments       Fashion & Retail   \n",
       "2599        Germany  flavors and fragrances        Food & Beverage   \n",
       "\n",
       "[2600 rows x 8 columns]"
      ]
     },
     "execution_count": 7,
     "metadata": {},
     "output_type": "execute_result"
    }
   ],
   "source": [
    "df"
   ]
  },
  {
   "cell_type": "markdown",
   "id": "8da6e7da-f06d-4b03-bfb5-85f3ad0c33ca",
   "metadata": {},
   "source": [
    "#### Find the missing values by using the df.isnull()"
   ]
  },
  {
   "cell_type": "markdown",
   "id": "8d183587-46af-425b-9b50-c1869f10d9d1",
   "metadata": {},
   "source": [
    "# Exploratory Data Analysis (EDA):"
   ]
  },
  {
   "cell_type": "markdown",
   "id": "692629e3-4293-479b-b7bf-797c5ef3fe04",
   "metadata": {},
   "source": [
    "### What are the key statistice for billionaire networth, and how is wealth distributed?"
   ]
  },
  {
   "cell_type": "code",
   "execution_count": 8,
   "id": "aad14a3d-4fe9-47fd-a6f5-fd10bd0feb0f",
   "metadata": {},
   "outputs": [
    {
     "data": {
      "text/html": [
       "<div>\n",
       "<style scoped>\n",
       "    .dataframe tbody tr th:only-of-type {\n",
       "        vertical-align: middle;\n",
       "    }\n",
       "\n",
       "    .dataframe tbody tr th {\n",
       "        vertical-align: top;\n",
       "    }\n",
       "\n",
       "    .dataframe thead th {\n",
       "        text-align: right;\n",
       "    }\n",
       "</style>\n",
       "<table border=\"1\" class=\"dataframe\">\n",
       "  <thead>\n",
       "    <tr style=\"text-align: right;\">\n",
       "      <th></th>\n",
       "      <th>Unnamed: 0</th>\n",
       "      <th>rank</th>\n",
       "      <th>networth</th>\n",
       "      <th>age</th>\n",
       "    </tr>\n",
       "  </thead>\n",
       "  <tbody>\n",
       "    <tr>\n",
       "      <th>count</th>\n",
       "      <td>2600.000000</td>\n",
       "      <td>2600.000000</td>\n",
       "      <td>2600.000000</td>\n",
       "      <td>2600.000000</td>\n",
       "    </tr>\n",
       "    <tr>\n",
       "      <th>mean</th>\n",
       "      <td>1299.500000</td>\n",
       "      <td>1269.570769</td>\n",
       "      <td>4.860750</td>\n",
       "      <td>64.271923</td>\n",
       "    </tr>\n",
       "    <tr>\n",
       "      <th>std</th>\n",
       "      <td>750.699674</td>\n",
       "      <td>728.146364</td>\n",
       "      <td>10.659671</td>\n",
       "      <td>13.220607</td>\n",
       "    </tr>\n",
       "    <tr>\n",
       "      <th>min</th>\n",
       "      <td>0.000000</td>\n",
       "      <td>1.000000</td>\n",
       "      <td>1.000000</td>\n",
       "      <td>19.000000</td>\n",
       "    </tr>\n",
       "    <tr>\n",
       "      <th>25%</th>\n",
       "      <td>649.750000</td>\n",
       "      <td>637.000000</td>\n",
       "      <td>1.500000</td>\n",
       "      <td>55.000000</td>\n",
       "    </tr>\n",
       "    <tr>\n",
       "      <th>50%</th>\n",
       "      <td>1299.500000</td>\n",
       "      <td>1292.000000</td>\n",
       "      <td>2.400000</td>\n",
       "      <td>64.000000</td>\n",
       "    </tr>\n",
       "    <tr>\n",
       "      <th>75%</th>\n",
       "      <td>1949.250000</td>\n",
       "      <td>1929.000000</td>\n",
       "      <td>4.500000</td>\n",
       "      <td>74.000000</td>\n",
       "    </tr>\n",
       "    <tr>\n",
       "      <th>max</th>\n",
       "      <td>2599.000000</td>\n",
       "      <td>2578.000000</td>\n",
       "      <td>219.000000</td>\n",
       "      <td>100.000000</td>\n",
       "    </tr>\n",
       "  </tbody>\n",
       "</table>\n",
       "</div>"
      ],
      "text/plain": [
       "        Unnamed: 0         rank     networth          age\n",
       "count  2600.000000  2600.000000  2600.000000  2600.000000\n",
       "mean   1299.500000  1269.570769     4.860750    64.271923\n",
       "std     750.699674   728.146364    10.659671    13.220607\n",
       "min       0.000000     1.000000     1.000000    19.000000\n",
       "25%     649.750000   637.000000     1.500000    55.000000\n",
       "50%    1299.500000  1292.000000     2.400000    64.000000\n",
       "75%    1949.250000  1929.000000     4.500000    74.000000\n",
       "max    2599.000000  2578.000000   219.000000   100.000000"
      ]
     },
     "execution_count": 8,
     "metadata": {},
     "output_type": "execute_result"
    }
   ],
   "source": [
    "df.describe()"
   ]
  },
  {
   "cell_type": "code",
   "execution_count": 9,
   "id": "51c950e0-89b7-49ce-a882-068899c1ed02",
   "metadata": {},
   "outputs": [
    {
     "data": {
      "text/plain": [
       "2.4"
      ]
     },
     "execution_count": 9,
     "metadata": {},
     "output_type": "execute_result"
    }
   ],
   "source": [
    "df.networth.median()"
   ]
  },
  {
   "cell_type": "markdown",
   "id": "0522075e-b873-4f83-9b58-ef7e65f0fc11",
   "metadata": {},
   "source": [
    "#### By using the describe() we get mean, median, min, max,std deviation  to find the key statistic for billionaires networth"
   ]
  },
  {
   "cell_type": "code",
   "execution_count": 34,
   "id": "9f7d5081-a5fd-4474-9f81-c411bd85e24f",
   "metadata": {},
   "outputs": [
    {
     "data": {
      "image/png": "[encoded data removed]",
      "text/plain": [
       "<Figure size 1000x800 with 1 Axes>"
      ]
     },
     "metadata": {},
     "output_type": "display_data"
    }
   ],
   "source": [
    "plt.figure(figsize=(10,8))\n",
    "sb.histplot(x=df.networth,color='blue') \n",
    "plt.xticks(rotation=90)\n",
    "plt.show()"
   ]
  },
  {
   "cell_type": "markdown",
   "id": "5deb359c-4838-486f-a185-1b4685dfbb1a",
   "metadata": {},
   "source": [
    "#### By using the histogram we get the networth of billionaire"
   ]
  },
  {
   "cell_type": "code",
   "execution_count": 11,
   "id": "908bedbc-f2e0-4d81-bb8b-95c790fcfa56",
   "metadata": {},
   "outputs": [
    {
     "data": {
      "text/plain": [
       "name\n",
       "Elon Musk                    219.0\n",
       "Jeff Bezos                   171.0\n",
       "Bernard Arnault & family     158.0\n",
       "Bill Gates                   129.0\n",
       "Warren Buffett               118.0\n",
       "Larry Page                   111.0\n",
       "Sergey Brin                  107.0\n",
       "Larry Ellison                106.0\n",
       "Steve Ballmer                 91.4\n",
       "Mukesh Ambani                 90.7\n",
       "Name: networth, dtype: float64"
      ]
     },
     "execution_count": 11,
     "metadata": {},
     "output_type": "execute_result"
    }
   ],
   "source": [
    "df.groupby('name')['networth'].sum().nlargest(10)"
   ]
  },
  {
   "cell_type": "markdown",
   "id": "68de8a80-affe-46a0-bdd9-cb1a8011d625",
   "metadata": {},
   "source": [
    "#### By using the groupby we get the top 10 billionaires\n",
    "#### 1. Elon Musk 210.0\n",
    "#### 2. Jeff Bezos 171.0\n",
    "#### 3. Bernard Arnualt & family 158.0"
   ]
  },
  {
   "cell_type": "markdown",
   "id": "294ae3c1-1068-4911-9622-fe4786bb2ac7",
   "metadata": {},
   "source": [
    "# Geographic Analysis:"
   ]
  },
  {
   "cell_type": "markdown",
   "id": "53b78953-1a8b-47ce-8afa-e0832abb496f",
   "metadata": {},
   "source": [
    "### What is the global distribution  of billionaires accros different continents and region?"
   ]
  },
  {
   "cell_type": "code",
   "execution_count": 12,
   "id": "2b3d374a-8755-42c5-bfb3-3e2c2a893e2a",
   "metadata": {},
   "outputs": [],
   "source": [
    "a=df.country.value_counts().nlargest(10)"
   ]
  },
  {
   "cell_type": "code",
   "execution_count": 13,
   "id": "b1b1955e-0e60-4a83-b3ab-c1e33e93a612",
   "metadata": {},
   "outputs": [
    {
     "data": {
      "text/plain": [
       "country\n",
       "United States    719\n",
       "China            515\n",
       "India            161\n",
       "Germany          130\n",
       "Russia            81\n",
       "Hong Kong         67\n",
       "Canada            64\n",
       "Brazil            60\n",
       "Italy             52\n",
       "Taiwan            51\n",
       "Name: count, dtype: int64"
      ]
     },
     "execution_count": 13,
     "metadata": {},
     "output_type": "execute_result"
    }
   ],
   "source": [
    "a"
   ]
  },
  {
   "cell_type": "markdown",
   "id": "1c976b4a-d337-4597-9436-524d7430f4aa",
   "metadata": {},
   "source": [
    "#### By using the value counts we get the  top 10 countries\n",
    "#### United states 719\n",
    "#### China         515\n",
    "#### India         161"
   ]
  },
  {
   "cell_type": "markdown",
   "id": "02db7932-8e91-4727-b6be-296ea540bd31",
   "metadata": {},
   "source": [
    "### Which country have the highest billionaire wealth concenration?"
   ]
  },
  {
   "cell_type": "code",
   "execution_count": 33,
   "id": "61f33e23-2cf5-4416-931f-292f067650cd",
   "metadata": {},
   "outputs": [
    {
     "name": "stderr",
     "output_type": "stream",
     "text": [
      "C:\\Users\\VICTUS\\AppData\\Local\\Temp\\ipykernel_16140\\3000350831.py:2: FutureWarning: \n",
      "\n",
      "Passing `palette` without assigning `hue` is deprecated and will be removed in v0.14.0. Assign the `x` variable to `hue` and set `legend=False` for the same effect.\n",
      "\n",
      "  sb.barplot(x=df.country,y=df.networth, palette='winter')\n"
     ]
    },
    {
     "data": {
      "image/png": "[encoded data removed]",
      "text/plain": [
       "<Figure size 1500x1000 with 1 Axes>"
      ]
     },
     "metadata": {},
     "output_type": "display_data"
    }
   ],
   "source": [
    "plt.figure(figsize=(15,10))\n",
    "sb.barplot(x=df.country,y=df.networth, palette='winter')\n",
    "plt.xticks(rotation=90)\n",
    "plt.show()"
   ]
  },
  {
   "cell_type": "markdown",
   "id": "4835e897-6912-471d-bb80-7d1e5720c6a3",
   "metadata": {},
   "source": [
    "#### By using the barplot we get the countries with their networth\n",
    "#### highest countries with their networth\n",
    "#### France,India & Nigeria"
   ]
  },
  {
   "cell_type": "code",
   "execution_count": 15,
   "id": "1316a258-c154-4d6c-9f17-c748b413261b",
   "metadata": {},
   "outputs": [],
   "source": [
    "a=df.name.value_counts().nlargest(10)"
   ]
  },
  {
   "cell_type": "code",
   "execution_count": 16,
   "id": "aa527b06-1d83-4241-ba6d-51283f6ddd0d",
   "metadata": {},
   "outputs": [
    {
     "data": {
      "text/plain": [
       "name\n",
       "Wang Yanqing & family     2\n",
       "Li Li                     2\n",
       "Elon Musk                 1\n",
       "Sanjit Biswas             1\n",
       "Farkhad Akhmedov          1\n",
       "Marc Andreessen           1\n",
       "John Bicket               1\n",
       "Zadik Bino & family       1\n",
       "Alex Birkenstock          1\n",
       "Christian Birkenstock     1\n",
       "Name: count, dtype: int64"
      ]
     },
     "execution_count": 16,
     "metadata": {},
     "output_type": "execute_result"
    }
   ],
   "source": [
    "a"
   ]
  },
  {
   "cell_type": "markdown",
   "id": "ffd5fded-5b28-4b81-b3dc-b4e2b6d3b3e4",
   "metadata": {},
   "source": [
    "#### By using the value counts we get the top 10 billionaires"
   ]
  },
  {
   "cell_type": "markdown",
   "id": "e3bdc6db-f823-474e-a0a8-b20d17d40f6e",
   "metadata": {},
   "source": [
    "# Industry Analysis:"
   ]
  },
  {
   "cell_type": "markdown",
   "id": "b4668f71-d9ad-489f-9bee-526d802a00ef",
   "metadata": {},
   "source": [
    "### Which industries produce the highest number  of billionaires? "
   ]
  },
  {
   "cell_type": "code",
   "execution_count": 17,
   "id": "f5b813e7-624f-4739-b75a-e196b485c3b1",
   "metadata": {},
   "outputs": [
    {
     "data": {
      "text/plain": [
       "industry\n",
       "Technology                2168.40\n",
       "Finance & Investments     1734.30\n",
       "Fashion & Retail          1613.20\n",
       "Manufacturing             1079.80\n",
       "Diversified                939.50\n",
       "Food & Beverage            933.35\n",
       "Healthcare                 708.90\n",
       "Real Estate                685.80\n",
       "Automotive                 582.60\n",
       "Media & Entertainment      493.60\n",
       "Name: networth, dtype: float64"
      ]
     },
     "execution_count": 17,
     "metadata": {},
     "output_type": "execute_result"
    }
   ],
   "source": [
    "df.groupby('industry')['networth'].sum().nlargest(10)"
   ]
  },
  {
   "cell_type": "markdown",
   "id": "2f2f2a80-a96e-4d31-bdf3-f6eafc1aba97",
   "metadata": {},
   "source": [
    "#### We get the top 10 largest country From  the industry techhnology 2168.40 has highest networth "
   ]
  },
  {
   "cell_type": "code",
   "execution_count": 35,
   "id": "91a4db0f-717b-4cd8-bfec-27b00f2aea6b",
   "metadata": {},
   "outputs": [
    {
     "name": "stderr",
     "output_type": "stream",
     "text": [
      "C:\\Users\\VICTUS\\AppData\\Local\\Temp\\ipykernel_16140\\3649067835.py:2: FutureWarning: \n",
      "\n",
      "Passing `palette` without assigning `hue` is deprecated and will be removed in v0.14.0. Assign the `x` variable to `hue` and set `legend=False` for the same effect.\n",
      "\n",
      "  sb.barplot(x=df.industry,y=df.networth,palette='winter')\n"
     ]
    },
    {
     "data": {
      "image/png": "[encoded data removed]",
      "text/plain": [
       "<Figure size 1000x600 with 1 Axes>"
      ]
     },
     "metadata": {},
     "output_type": "display_data"
    }
   ],
   "source": [
    "plt.figure(figsize=(10,6))\n",
    "sb.barplot(x=df.industry,y=df.networth,palette='winter')\n",
    "plt.xticks(rotation=90)\n",
    "plt.show()"
   ]
  },
  {
   "cell_type": "markdown",
   "id": "ecfb2680-797a-4f80-96ab-8a04af4bf4df",
   "metadata": {},
   "source": [
    "#### By using the barplot we get the industries with their networth"
   ]
  },
  {
   "cell_type": "markdown",
   "id": "21f36821-f033-4572-af92-b9208d446196",
   "metadata": {},
   "source": [
    "# Age-Based Analysis:"
   ]
  },
  {
   "cell_type": "markdown",
   "id": "081660c1-c684-466a-8f86-bb0c56265d2d",
   "metadata": {},
   "source": [
    "### What is the average and median age of billionaires?"
   ]
  },
  {
   "cell_type": "code",
   "execution_count": 19,
   "id": "2c8b0321-cc1a-4b60-870a-b753880eaf10",
   "metadata": {},
   "outputs": [
    {
     "data": {
      "text/plain": [
       "64.27192307692307"
      ]
     },
     "execution_count": 19,
     "metadata": {},
     "output_type": "execute_result"
    }
   ],
   "source": [
    "df.age.mean()"
   ]
  },
  {
   "cell_type": "code",
   "execution_count": 20,
   "id": "7ba3733b-5d53-48c8-95b0-bd37e2b8d9ef",
   "metadata": {},
   "outputs": [
    {
     "data": {
      "text/plain": [
       "64.0"
      ]
     },
     "execution_count": 20,
     "metadata": {},
     "output_type": "execute_result"
    }
   ],
   "source": [
    "df.age.median()"
   ]
  },
  {
   "cell_type": "code",
   "execution_count": 21,
   "id": "673c1e58-122b-48bd-9dc4-00b07e959192",
   "metadata": {},
   "outputs": [
    {
     "data": {
      "text/plain": [
       "100"
      ]
     },
     "execution_count": 21,
     "metadata": {},
     "output_type": "execute_result"
    }
   ],
   "source": [
    "df.age.max()"
   ]
  },
  {
   "cell_type": "code",
   "execution_count": 22,
   "id": "c35eb534-1811-4fea-92e0-13f009394d84",
   "metadata": {},
   "outputs": [
    {
     "data": {
      "text/plain": [
       "19"
      ]
     },
     "execution_count": 22,
     "metadata": {},
     "output_type": "execute_result"
    }
   ],
   "source": [
    "df.age.min()"
   ]
  },
  {
   "cell_type": "markdown",
   "id": "5ffc0a5b-a9d7-47a6-b6ea-6e0342bcc86e",
   "metadata": {},
   "source": [
    "#### By using the average and median we get billionaires age"
   ]
  },
  {
   "cell_type": "code",
   "execution_count": 23,
   "id": "d902dcac-11ae-43a7-8de7-67e92ea8635b",
   "metadata": {},
   "outputs": [
    {
     "data": {
      "text/plain": [
       "name\n",
       "Wang Yanqing & family     130\n",
       "Name: age, dtype: int64"
      ]
     },
     "execution_count": 23,
     "metadata": {},
     "output_type": "execute_result"
    }
   ],
   "source": [
    "df.groupby('name')['age'].sum().nlargest(1)"
   ]
  },
  {
   "cell_type": "code",
   "execution_count": 24,
   "id": "717f77f4-57f6-47ff-8aa0-6b188f2503e5",
   "metadata": {},
   "outputs": [
    {
     "data": {
      "text/plain": [
       "name\n",
       "Carl DeSantis     1.0\n",
       "Name: networth, dtype: float64"
      ]
     },
     "execution_count": 24,
     "metadata": {},
     "output_type": "execute_result"
    }
   ],
   "source": [
    "df.groupby('name')['networth'].mean().nsmallest(1)"
   ]
  },
  {
   "cell_type": "markdown",
   "id": "8553c43a-836b-465c-9bc5-5ddf7a23ed70",
   "metadata": {},
   "source": [
    "### Who are the youngest and oldest billinaires in the dataset?"
   ]
  },
  {
   "cell_type": "code",
   "execution_count": 25,
   "id": "aff005ba-802b-4cce-87f6-137204ab1ece",
   "metadata": {},
   "outputs": [
    {
     "data": {
      "text/plain": [
       "1681    100\n",
       "Name: age, dtype: int64"
      ]
     },
     "execution_count": 25,
     "metadata": {},
     "output_type": "execute_result"
    }
   ],
   "source": [
    "df.age.nlargest(1)"
   ]
  },
  {
   "cell_type": "code",
   "execution_count": 26,
   "id": "36761688-0be1-431f-9910-d87597ab4a22",
   "metadata": {},
   "outputs": [
    {
     "data": {
      "text/plain": [
       "Unnamed: 0                      1681\n",
       "rank                            1645\n",
       "name                  George Joseph \n",
       "networth                         1.8\n",
       "age                              100\n",
       "country                United States\n",
       "source                     insurance\n",
       "industry      Finance & Investments \n",
       "Name: 1681, dtype: object"
      ]
     },
     "execution_count": 26,
     "metadata": {},
     "output_type": "execute_result"
    }
   ],
   "source": [
    "df.loc[1681]"
   ]
  },
  {
   "cell_type": "markdown",
   "id": "c2bea157-d79b-46f7-bd95-d6833eb469be",
   "metadata": {},
   "source": [
    "#### By using the loc we get the oldest billionaires name with their age \n",
    "#### Name: George Joseph\n",
    "#### Age : 100"
   ]
  },
  {
   "cell_type": "code",
   "execution_count": 27,
   "id": "741ad7c6-56da-4cdd-b4d4-e98a5beb3a0f",
   "metadata": {},
   "outputs": [
    {
     "data": {
      "text/plain": [
       "1311    19\n",
       "Name: age, dtype: int64"
      ]
     },
     "execution_count": 27,
     "metadata": {},
     "output_type": "execute_result"
    }
   ],
   "source": [
    "df.age.nsmallest(1)"
   ]
  },
  {
   "cell_type": "code",
   "execution_count": 28,
   "id": "bc880295-1f99-4a2b-b4ab-2894ab900325",
   "metadata": {},
   "outputs": [
    {
     "data": {
      "text/plain": [
       "Unnamed: 0                    1311\n",
       "rank                          1292\n",
       "name          Kevin David Lehmann \n",
       "networth                       2.4\n",
       "age                             19\n",
       "country                    Germany\n",
       "source                  drugstores\n",
       "industry         Fashion & Retail \n",
       "Name: 1311, dtype: object"
      ]
     },
     "execution_count": 28,
     "metadata": {},
     "output_type": "execute_result"
    }
   ],
   "source": [
    "df.loc[1311]"
   ]
  },
  {
   "cell_type": "markdown",
   "id": "b853c3cf-b08d-4a0b-a600-539c401a1246",
   "metadata": {},
   "source": [
    "#### By using the loc we get the youngest billionaires name with their age \n",
    "#### Name: Kevin David Lehmann\n",
    "#### Age : 19"
   ]
  },
  {
   "cell_type": "code",
   "execution_count": null,
   "id": "2fd23e2d-f221-4eab-8782-6e274a2d2abc",
   "metadata": {},
   "outputs": [],
   "source": []
  },
  {
   "cell_type": "code",
   "execution_count": null,
   "id": "52116160-b49c-4802-95c1-c0528b93579c",
   "metadata": {},
   "outputs": [],
   "source": []
  },
  {
   "cell_type": "code",
   "execution_count": null,
   "id": "f6359151-18b8-40b0-8c79-f90b9361234d",
   "metadata": {},
   "outputs": [],
   "source": []
  },
  {
   "cell_type": "code",
   "execution_count": null,
   "id": "56743b91-58a7-48df-82e7-5b869fe3135d",
   "metadata": {},
   "outputs": [],
   "source": []
  }
 ],
 "metadata": {
  "kernelspec": {
   "display_name": "Python 3 (ipykernel)",
   "language": "python",
   "name": "python3"
  },
  "language_info": {
   "codemirror_mode": {
    "name": "ipython",
    "version": 3
   },
   "file_extension": ".py",
   "mimetype": "text/x-python",
   "name": "python",
   "nbconvert_exporter": "python",
   "pygments_lexer": "ipython3",
   "version": "3.12.7"
  }
 },
 "nbformat": 4,
 "nbformat_minor": 5
}
